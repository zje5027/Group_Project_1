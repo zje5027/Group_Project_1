{
  "nbformat": 4,
  "nbformat_minor": 0,
  "metadata": {
    "colab": {
      "name": "GroupAssignment1.ipynb",
      "provenance": [],
      "collapsed_sections": [],
      "include_colab_link": true
    },
    "kernelspec": {
      "name": "python3",
      "display_name": "Python 3"
    }
  },
  "cells": [
    {
      "cell_type": "markdown",
      "metadata": {
        "id": "view-in-github",
        "colab_type": "text"
      },
      "source": [
        "<a href=\"https://colab.research.google.com/github/zje5027/Group_Project_1/blob/master/GroupAssignment1.ipynb\" target=\"_parent\"><img src=\"https://colab.research.google.com/assets/colab-badge.svg\" alt=\"Open In Colab\"/></a>"
      ]
    },
    {
      "cell_type": "markdown",
      "metadata": {
        "id": "UblhAIGuGF27",
        "colab_type": "text"
      },
      "source": [
        "# Library Database\n",
        "\n",
        "Zachary End, Eli Freedman, Jared Raggi"
      ]
    },
    {
      "cell_type": "markdown",
      "metadata": {
        "id": "RlR0_Ol4GW3b",
        "colab_type": "text"
      },
      "source": [
        "### What is your idea?"
      ]
    },
    {
      "cell_type": "markdown",
      "metadata": {
        "id": "HU68Zv5MGY97",
        "colab_type": "text"
      },
      "source": [
        "-- To create a database for an all digital library. The library will work similarly to a real library except all rented books can be read on smart devices, and are returned automatically.\n",
        " "
      ]
    },
    {
      "cell_type": "markdown",
      "metadata": {
        "id": "45Q0PBrIGiIg",
        "colab_type": "text"
      },
      "source": [
        "### What makes it unique?"
      ]
    },
    {
      "cell_type": "markdown",
      "metadata": {
        "id": "8WOfTAuqGjoc",
        "colab_type": "text"
      },
      "source": [
        "-- What makes this library database unique is the entire collection of readings are completely digital. This prevents users from having 'overdue' readings and allows users to check out without having to physically go to a library and pick out a copy."
      ]
    },
    {
      "cell_type": "markdown",
      "metadata": {
        "id": "dVrktWdXGl19",
        "colab_type": "text"
      },
      "source": [
        "### is this a brand-new product or business, or are you borrowing from another business?"
      ]
    },
    {
      "cell_type": "markdown",
      "metadata": {
        "id": "MmGY0leUGnaN",
        "colab_type": "text"
      },
      "source": [
        "-- This idea is inspired by Amazon’s huge success on digital books but with a Netflix style twist meant to recreate the feeling of a traditional library. We will have everything from scientific research papers to movies.\n"
      ]
    },
    {
      "cell_type": "markdown",
      "metadata": {
        "id": "k3oJzVDPGnws",
        "colab_type": "text"
      },
      "source": [
        "### describe a typical business interaction or a day at your business."
      ]
    },
    {
      "cell_type": "markdown",
      "metadata": {
        "id": "GeEKl-lUG1x5",
        "colab_type": "text"
      },
      "source": [
        "-- -- A user logs onto the database and wants to rent a book for a week. They search the database for the book they are looking for and click on the book they want. They declare that they want the book and that they want to rent it for a week. They put in their payment information and now have access to the digital book for 7 days and automatically lose access after 7 days."
      ]
    },
    {
      "cell_type": "markdown",
      "metadata": {
        "id": "iUFoC5BuGpID",
        "colab_type": "text"
      },
      "source": [
        "### list your 5 entities/tables and for each, provide details about what data will be stored in the entities/tables."
      ]
    },
    {
      "cell_type": "markdown",
      "metadata": {
        "id": "AiZXrfSMGqZm",
        "colab_type": "text"
      },
      "source": [
        "1. Books\n",
        "-- The keys realted to digital book rentals are author, publisher, and genre.\n",
        "\n",
        "\n",
        "\n",
        "\n",
        "2.Users\n",
        "\n",
        "\n",
        " --The keys related to  users are as unique UserID, payment info, email, and phone number \n",
        "\n",
        "\n",
        "\n",
        "3. Movies\n",
        "\n",
        "-- The keys related  to movies are the Title, Director Actors within and the playtime of the film.\n",
        "\n",
        "\n",
        "4. Newspapers\n",
        "-- The keys related to Newsapaper rentals are dates, company name, issue and the individual story.\n",
        "\n",
        "\n",
        "\n",
        "5.  Magazines\n",
        "\n",
        "-- The keys for magazine rentals are the issue, publisher, date , and the journalist who who are featured in the issue."
      ]
    },
    {
      "cell_type": "markdown",
      "metadata": {
        "id": "h2mJWTewHLSn",
        "colab_type": "text"
      },
      "source": [
        "Draw IO Entity Relationship Diagram \n",
        "\n",
        "\n",
        "![picture](https://nbviewer.jupyter.org/github/zje5027/First-Google-NoteBook/blob/master/Screen%20Shot%202020-09-17%20at%2011.37.48%20AM.png)"
      ]
    },
    {
      "cell_type": "markdown",
      "metadata": {
        "id": "WFQXwieoHiCe",
        "colab_type": "text"
      },
      "source": [
        "### provide a goal for your project "
      ]
    },
    {
      "cell_type": "markdown",
      "metadata": {
        "id": "cKmoiVHrHnHF",
        "colab_type": "text"
      },
      "source": [
        "-- To give the world inexpenisve access to information."
      ]
    }
  ]
}